{
 "cells": [
  {
   "cell_type": "markdown",
   "id": "82f8604a",
   "metadata": {},
   "source": [
    "# Import necessary Libraries"
   ]
  },
  {
   "cell_type": "code",
   "execution_count": 1,
   "id": "4ac26233",
   "metadata": {},
   "outputs": [],
   "source": [
    "import pandas as pd\n",
    "import matplotlib.pyplot as plt\n",
    "import tensorflow as tf\n",
    "import nltk\n",
    "import sklearn\n",
    "import numpy as np\n",
    "\n",
    "from tensorflow import keras\n",
    "from keras.preprocessing.text import text_to_word_sequence\n",
    "from nltk.corpus import stopwords\n",
    "from nltk.stem import PorterStemmer\n",
    "from nltk.stem import WordNetLemmatizer\n",
    "from nltk.corpus import wordnet\n",
    "from sklearn.feature_extraction.text import TfidfVectorizer\n",
    "from sklearn.feature_extraction.text import TfidfTransformer\n",
    "from sklearn.feature_extraction.text import CountVectorizer\n",
    "from sklearn.model_selection import train_test_split\n",
    "from sklearn import svm\n",
    "from sklearn.naive_bayes import MultinomialNB\n",
    "from sklearn.metrics import roc_auc_score\n",
    "from sklearn.pipeline import Pipeline\n",
    "from sklearn.metrics import classification_report\n",
    "from sklearn.metrics import accuracy_score\n"
   ]
  },
  {
   "cell_type": "markdown",
   "id": "7bf7c605",
   "metadata": {},
   "source": [
    "# Read Dataset"
   ]
  },
  {
   "cell_type": "code",
   "execution_count": 2,
   "id": "3c12b5ab",
   "metadata": {},
   "outputs": [],
   "source": [
    "dataset = pd.read_csv('BBC News Train.csv')\n",
    "test_set = pd.read_csv(\"BBC News Test.csv\")"
   ]
  },
  {
   "cell_type": "code",
   "execution_count": 3,
   "id": "12911869",
   "metadata": {},
   "outputs": [
    {
     "name": "stdout",
     "output_type": "stream",
     "text": [
      "['business' 'tech' 'politics' 'sport' 'entertainment']\n"
     ]
    }
   ],
   "source": [
    "target_category = dataset['Category'].unique()\n",
    "print(target_category)"
   ]
  },
  {
   "cell_type": "code",
   "execution_count": 4,
   "id": "43a838cd",
   "metadata": {},
   "outputs": [
    {
     "data": {
      "text/html": [
       "<div>\n",
       "<style scoped>\n",
       "    .dataframe tbody tr th:only-of-type {\n",
       "        vertical-align: middle;\n",
       "    }\n",
       "\n",
       "    .dataframe tbody tr th {\n",
       "        vertical-align: top;\n",
       "    }\n",
       "\n",
       "    .dataframe thead th {\n",
       "        text-align: right;\n",
       "    }\n",
       "</style>\n",
       "<table border=\"1\" class=\"dataframe\">\n",
       "  <thead>\n",
       "    <tr style=\"text-align: right;\">\n",
       "      <th></th>\n",
       "      <th>ArticleId</th>\n",
       "      <th>Text</th>\n",
       "      <th>Category</th>\n",
       "      <th>categoryId</th>\n",
       "    </tr>\n",
       "  </thead>\n",
       "  <tbody>\n",
       "    <tr>\n",
       "      <th>0</th>\n",
       "      <td>1833</td>\n",
       "      <td>worldcom ex-boss launches defence lawyers defe...</td>\n",
       "      <td>business</td>\n",
       "      <td>0</td>\n",
       "    </tr>\n",
       "    <tr>\n",
       "      <th>1</th>\n",
       "      <td>154</td>\n",
       "      <td>german business confidence slides german busin...</td>\n",
       "      <td>business</td>\n",
       "      <td>0</td>\n",
       "    </tr>\n",
       "    <tr>\n",
       "      <th>2</th>\n",
       "      <td>1101</td>\n",
       "      <td>bbc poll indicates economic gloom citizens in ...</td>\n",
       "      <td>business</td>\n",
       "      <td>0</td>\n",
       "    </tr>\n",
       "    <tr>\n",
       "      <th>3</th>\n",
       "      <td>1976</td>\n",
       "      <td>lifestyle  governs mobile choice  faster  bett...</td>\n",
       "      <td>tech</td>\n",
       "      <td>1</td>\n",
       "    </tr>\n",
       "    <tr>\n",
       "      <th>4</th>\n",
       "      <td>917</td>\n",
       "      <td>enron bosses in $168m payout eighteen former e...</td>\n",
       "      <td>business</td>\n",
       "      <td>0</td>\n",
       "    </tr>\n",
       "  </tbody>\n",
       "</table>\n",
       "</div>"
      ],
      "text/plain": [
       "   ArticleId                                               Text  Category  \\\n",
       "0       1833  worldcom ex-boss launches defence lawyers defe...  business   \n",
       "1        154  german business confidence slides german busin...  business   \n",
       "2       1101  bbc poll indicates economic gloom citizens in ...  business   \n",
       "3       1976  lifestyle  governs mobile choice  faster  bett...      tech   \n",
       "4        917  enron bosses in $168m payout eighteen former e...  business   \n",
       "\n",
       "   categoryId  \n",
       "0           0  \n",
       "1           0  \n",
       "2           0  \n",
       "3           1  \n",
       "4           0  "
      ]
     },
     "execution_count": 4,
     "metadata": {},
     "output_type": "execute_result"
    }
   ],
   "source": [
    "dataset['categoryId'] = dataset['Category'].factorize()[0]\n",
    "dataset.head()"
   ]
  },
  {
   "cell_type": "code",
   "execution_count": 5,
   "id": "e45dadfd",
   "metadata": {},
   "outputs": [
    {
     "data": {
      "text/html": [
       "<div>\n",
       "<style scoped>\n",
       "    .dataframe tbody tr th:only-of-type {\n",
       "        vertical-align: middle;\n",
       "    }\n",
       "\n",
       "    .dataframe tbody tr th {\n",
       "        vertical-align: top;\n",
       "    }\n",
       "\n",
       "    .dataframe thead th {\n",
       "        text-align: right;\n",
       "    }\n",
       "</style>\n",
       "<table border=\"1\" class=\"dataframe\">\n",
       "  <thead>\n",
       "    <tr style=\"text-align: right;\">\n",
       "      <th></th>\n",
       "      <th>Category</th>\n",
       "      <th>categoryId</th>\n",
       "    </tr>\n",
       "  </thead>\n",
       "  <tbody>\n",
       "    <tr>\n",
       "      <th>0</th>\n",
       "      <td>business</td>\n",
       "      <td>0</td>\n",
       "    </tr>\n",
       "    <tr>\n",
       "      <th>3</th>\n",
       "      <td>tech</td>\n",
       "      <td>1</td>\n",
       "    </tr>\n",
       "    <tr>\n",
       "      <th>5</th>\n",
       "      <td>politics</td>\n",
       "      <td>2</td>\n",
       "    </tr>\n",
       "    <tr>\n",
       "      <th>6</th>\n",
       "      <td>sport</td>\n",
       "      <td>3</td>\n",
       "    </tr>\n",
       "    <tr>\n",
       "      <th>7</th>\n",
       "      <td>entertainment</td>\n",
       "      <td>4</td>\n",
       "    </tr>\n",
       "  </tbody>\n",
       "</table>\n",
       "</div>"
      ],
      "text/plain": [
       "        Category  categoryId\n",
       "0       business           0\n",
       "3           tech           1\n",
       "5       politics           2\n",
       "6          sport           3\n",
       "7  entertainment           4"
      ]
     },
     "execution_count": 5,
     "metadata": {},
     "output_type": "execute_result"
    }
   ],
   "source": [
    "category = dataset[[\"Category\",\"categoryId\"]].drop_duplicates().sort_values('categoryId')\n",
    "category"
   ]
  },
  {
   "cell_type": "code",
   "execution_count": 6,
   "id": "fd8905e3",
   "metadata": {},
   "outputs": [
    {
     "data": {
      "text/plain": [
       "Category\n",
       "business         336\n",
       "entertainment    273\n",
       "politics         274\n",
       "sport            346\n",
       "tech             261\n",
       "Name: categoryId, dtype: int64"
      ]
     },
     "execution_count": 6,
     "metadata": {},
     "output_type": "execute_result"
    }
   ],
   "source": [
    "dataset.groupby('Category').categoryId.count()"
   ]
  },
  {
   "cell_type": "code",
   "execution_count": 7,
   "id": "34456a2a",
   "metadata": {},
   "outputs": [
    {
     "data": {
      "text/plain": [
       "0    worldcom ex-boss launches defence lawyers defe...\n",
       "1    german business confidence slides german busin...\n",
       "2    bbc poll indicates economic gloom citizens in ...\n",
       "3    lifestyle  governs mobile choice  faster  bett...\n",
       "4    enron bosses in $168m payout eighteen former e...\n",
       "Name: Text, dtype: object"
      ]
     },
     "execution_count": 7,
     "metadata": {},
     "output_type": "execute_result"
    }
   ],
   "source": [
    "text = dataset[\"Text\"] \n",
    "text.head()"
   ]
  },
  {
   "cell_type": "code",
   "execution_count": 8,
   "id": "a330e346",
   "metadata": {},
   "outputs": [
    {
     "data": {
      "text/plain": [
       "0    business\n",
       "1    business\n",
       "2    business\n",
       "3        tech\n",
       "4    business\n",
       "Name: Category, dtype: object"
      ]
     },
     "execution_count": 8,
     "metadata": {},
     "output_type": "execute_result"
    }
   ],
   "source": [
    "category = dataset[\"Category\"]\n",
    "category.head()"
   ]
  },
  {
   "cell_type": "markdown",
   "id": "da8362a2",
   "metadata": {},
   "source": [
    "# Data Preprocessing"
   ]
  },
  {
   "cell_type": "code",
   "execution_count": 9,
   "id": "5148066a",
   "metadata": {},
   "outputs": [
    {
     "data": {
      "text/plain": [
       "0    worldcom ex bos launch defenc lawyer defend fo...\n",
       "1    german busi confid slide german busi confid fe...\n",
       "2    bbc poll indic econom gloom citizen major nati...\n",
       "3    lifestyl govern mobil choic faster well funkie...\n",
       "4    enron bos m payout eighteen former enron direc...\n",
       "Name: Text, dtype: object"
      ]
     },
     "execution_count": 9,
     "metadata": {},
     "output_type": "execute_result"
    }
   ],
   "source": [
    "import preprocess\n",
    "dataset['Text'] = dataset['Text'].apply(preprocess.preprocessDataset)\n",
    "text = dataset['Text']\n",
    "category = dataset['Category']\n",
    "text.head()"
   ]
  },
  {
   "cell_type": "markdown",
   "id": "d753adcf",
   "metadata": {},
   "source": [
    "# Train Test Split"
   ]
  },
  {
   "cell_type": "code",
   "execution_count": 10,
   "id": "2a1f6a03",
   "metadata": {},
   "outputs": [
    {
     "name": "stdout",
     "output_type": "stream",
     "text": [
      "1073    hi tech poster guid commut interact poster hel...\n",
      "1062    hacker recruit pc one million comput net hijac...\n",
      "122     wenger deject arsen slump arsen manag arsen we...\n",
      "487     takeov offer sunderland fc bob murray chairman...\n",
      "1236    jamelia return top r b star jamelia three brit...\n",
      "                              ...                        \n",
      "765     dove soar uk album summit manchest rock band d...\n",
      "186     telegraph newspap axe job daili sunday telegra...\n",
      "1292    uganda ban vagina monologu uganda author ban p...\n",
      "1044    end bush denial blair tell eu toni blair urg e...\n",
      "1190    rich pick hi tech thiev virus trojan malici pr...\n",
      "Name: Text, Length: 447, dtype: object\n"
     ]
    }
   ],
   "source": [
    "X_train, X_test, Y_train, Y_test = train_test_split(text,category, test_size = 0.3, random_state = 60,shuffle=True, stratify=category)\n",
    "\n",
    "#print((X_train))\n",
    "print(X_test)"
   ]
  },
  {
   "cell_type": "code",
   "execution_count": 11,
   "id": "a3091463",
   "metadata": {},
   "outputs": [],
   "source": [
    "from sklearn.feature_extraction.text import CountVectorizer\n",
    "\n",
    "def dummy(doc):\n",
    "    return doc\n",
    "\n",
    "tfidf = CountVectorizer(\n",
    "    tokenizer=dummy,\n",
    "    preprocessor=dummy,\n",
    ") "
   ]
  },
  {
   "cell_type": "markdown",
   "id": "d0f7f280",
   "metadata": {},
   "source": [
    "# Training Model using Naive Bayes (Tf-Idf) algorithm"
   ]
  },
  {
   "cell_type": "code",
   "execution_count": 12,
   "id": "74cfdc16",
   "metadata": {},
   "outputs": [
    {
     "name": "stdout",
     "output_type": "stream",
     "text": [
      "Naive Bayes Train Accuracy Score : 99% \n",
      "Naive Bayes Test Accuracy Score  : 96% \n",
      "\n",
      "               precision    recall  f1-score   support\n",
      "\n",
      "     business       0.98      0.94      0.96       105\n",
      "         tech       0.93      1.00      0.96        76\n",
      "     politics       0.93      0.94      0.93        81\n",
      "        sport       1.00      0.98      0.99       106\n",
      "entertainment       0.96      0.95      0.96        79\n",
      "\n",
      "     accuracy                           0.96       447\n",
      "    macro avg       0.96      0.96      0.96       447\n",
      " weighted avg       0.96      0.96      0.96       447\n",
      "\n"
     ]
    }
   ],
   "source": [
    "nb = Pipeline([('tfidf', TfidfVectorizer()),('clf', MultinomialNB()),])\n",
    "nb.fit(X_train,Y_train)\n",
    "\n",
    "test_predict = nb.predict(X_test)\n",
    "\n",
    "train_accuracy = round(nb.score(X_train,Y_train)*100)\n",
    "test_accuracy =round(accuracy_score(test_predict, Y_test)*100)\n",
    "\n",
    "\n",
    "print(\"Naive Bayes Train Accuracy Score : {}% \".format(train_accuracy ))\n",
    "print(\"Naive Bayes Test Accuracy Score  : {}% \".format(test_accuracy ))\n",
    "print()\n",
    "print(classification_report(test_predict, Y_test, target_names=target_category))"
   ]
  },
  {
   "cell_type": "markdown",
   "id": "e003ab75",
   "metadata": {},
   "source": [
    "# Testing Model"
   ]
  },
  {
   "cell_type": "code",
   "execution_count": 13,
   "id": "7f7172e4",
   "metadata": {},
   "outputs": [],
   "source": [
    "test_set['Text'] = test_set['Text'].apply(preprocess.preprocessDataset)\n",
    "\n",
    "test_id = test_set['ArticleId']\n",
    "test_text = test_set['Text']\n",
    "y_prdict = nb.predict(test_text)"
   ]
  },
  {
   "cell_type": "code",
   "execution_count": 14,
   "id": "8a4dca5c",
   "metadata": {},
   "outputs": [
    {
     "data": {
      "text/plain": [
       "array(['sport', 'tech', 'sport', 'business', 'sport', 'sport', 'politics',\n",
       "       'politics', 'entertainment', 'business', 'business', 'tech',\n",
       "       'politics', 'tech', 'entertainment', 'sport', 'politics', 'tech',\n",
       "       'entertainment', 'politics', 'business', 'politics', 'sport',\n",
       "       'business', 'politics', 'sport', 'business', 'sport', 'sport',\n",
       "       'business', 'politics', 'tech', 'business', 'business', 'sport',\n",
       "       'sport', 'sport', 'business', 'entertainment', 'politics', 'tech',\n",
       "       'politics', 'entertainment', 'tech', 'sport', 'tech',\n",
       "       'entertainment', 'business', 'politics', 'business', 'politics',\n",
       "       'business', 'business', 'business', 'tech', 'politics', 'tech',\n",
       "       'entertainment', 'sport', 'tech', 'sport', 'entertainment', 'tech',\n",
       "       'politics', 'business', 'entertainment', 'sport', 'tech', 'sport',\n",
       "       'sport', 'tech', 'sport', 'business', 'politics', 'tech', 'sport',\n",
       "       'tech', 'tech', 'tech', 'entertainment', 'politics', 'sport',\n",
       "       'entertainment', 'entertainment', 'business', 'entertainment',\n",
       "       'business', 'entertainment', 'business', 'tech', 'business',\n",
       "       'politics', 'sport', 'tech', 'sport', 'sport', 'sport', 'sport',\n",
       "       'sport', 'sport', 'politics', 'sport', 'politics', 'entertainment',\n",
       "       'business', 'sport', 'politics', 'sport', 'politics',\n",
       "       'entertainment', 'sport', 'business', 'entertainment', 'sport',\n",
       "       'politics', 'sport', 'politics', 'sport', 'politics', 'business',\n",
       "       'entertainment', 'business', 'entertainment', 'entertainment',\n",
       "       'tech', 'sport', 'business', 'entertainment', 'business',\n",
       "       'entertainment', 'business', 'politics', 'politics', 'tech',\n",
       "       'business', 'business', 'politics', 'tech', 'entertainment',\n",
       "       'sport', 'business', 'tech', 'sport', 'entertainment', 'politics',\n",
       "       'sport', 'sport', 'entertainment', 'entertainment', 'tech',\n",
       "       'business', 'tech', 'politics', 'entertainment', 'sport', 'sport',\n",
       "       'sport', 'sport', 'entertainment', 'tech', 'business', 'tech',\n",
       "       'business', 'tech', 'business', 'tech', 'entertainment', 'tech',\n",
       "       'tech', 'politics', 'business', 'politics', 'business', 'business',\n",
       "       'entertainment', 'politics', 'tech', 'business', 'business',\n",
       "       'tech', 'sport', 'politics', 'sport', 'politics', 'tech', 'tech',\n",
       "       'politics', 'business', 'politics', 'politics', 'politics',\n",
       "       'business', 'entertainment', 'sport', 'sport', 'tech', 'business',\n",
       "       'tech', 'politics', 'business', 'sport', 'politics', 'business',\n",
       "       'entertainment', 'business', 'business', 'sport', 'tech',\n",
       "       'business', 'sport', 'entertainment', 'entertainment', 'sport',\n",
       "       'entertainment', 'sport', 'tech', 'politics', 'entertainment',\n",
       "       'sport', 'entertainment', 'sport', 'entertainment', 'politics',\n",
       "       'business', 'tech', 'entertainment', 'business', 'politics',\n",
       "       'business', 'tech', 'business', 'sport', 'politics', 'politics',\n",
       "       'business', 'politics', 'sport', 'business', 'business',\n",
       "       'politics', 'sport', 'politics', 'business', 'sport', 'tech',\n",
       "       'business', 'politics', 'business', 'politics', 'business',\n",
       "       'business', 'sport', 'tech', 'politics', 'tech', 'tech',\n",
       "       'entertainment', 'tech', 'sport', 'sport', 'tech', 'sport',\n",
       "       'sport', 'sport', 'entertainment', 'sport', 'politics', 'tech',\n",
       "       'business', 'sport', 'business', 'sport', 'business', 'sport',\n",
       "       'entertainment', 'business', 'business', 'entertainment',\n",
       "       'politics', 'business', 'sport', 'sport', 'tech', 'sport', 'sport',\n",
       "       'entertainment', 'business', 'sport', 'tech', 'politics',\n",
       "       'entertainment', 'business', 'business', 'politics', 'sport',\n",
       "       'entertainment', 'politics', 'business', 'sport', 'sport', 'tech',\n",
       "       'entertainment', 'sport', 'business', 'tech', 'business', 'sport',\n",
       "       'politics', 'politics', 'entertainment', 'politics',\n",
       "       'entertainment', 'politics', 'business', 'politics', 'tech',\n",
       "       'business', 'sport', 'tech', 'entertainment', 'politics', 'sport',\n",
       "       'politics', 'politics', 'tech', 'politics', 'sport', 'tech',\n",
       "       'politics', 'tech', 'tech', 'entertainment', 'business', 'tech',\n",
       "       'politics', 'business', 'politics', 'sport', 'tech',\n",
       "       'entertainment', 'entertainment', 'business', 'sport', 'tech',\n",
       "       'tech', 'entertainment', 'tech', 'business', 'sport',\n",
       "       'entertainment', 'tech', 'business', 'politics', 'tech', 'tech',\n",
       "       'politics', 'politics', 'sport', 'business', 'tech', 'sport',\n",
       "       'politics', 'politics', 'business', 'tech', 'sport', 'politics',\n",
       "       'business', 'politics', 'politics', 'tech', 'entertainment',\n",
       "       'business', 'business', 'sport', 'sport', 'sport', 'tech', 'sport',\n",
       "       'politics', 'tech', 'tech', 'politics', 'business', 'sport',\n",
       "       'sport', 'entertainment', 'entertainment', 'sport', 'tech', 'tech',\n",
       "       'sport', 'tech', 'entertainment', 'politics', 'tech', 'sport',\n",
       "       'business', 'politics', 'entertainment', 'business', 'tech',\n",
       "       'sport', 'politics', 'business', 'business', 'politics', 'tech',\n",
       "       'sport', 'politics', 'business', 'tech', 'business', 'tech',\n",
       "       'sport', 'sport', 'politics', 'business', 'tech', 'sport',\n",
       "       'politics', 'business', 'tech', 'tech', 'politics', 'tech',\n",
       "       'business', 'politics', 'business', 'entertainment', 'business',\n",
       "       'entertainment', 'politics', 'entertainment', 'sport', 'business',\n",
       "       'politics', 'business', 'sport', 'entertainment', 'business',\n",
       "       'entertainment', 'entertainment', 'sport', 'tech', 'entertainment',\n",
       "       'tech', 'business', 'politics', 'entertainment', 'politics',\n",
       "       'politics', 'sport', 'business', 'sport', 'politics',\n",
       "       'entertainment', 'entertainment', 'business', 'business', 'sport',\n",
       "       'politics', 'tech', 'business', 'politics', 'business', 'sport',\n",
       "       'sport', 'politics', 'sport', 'tech', 'business', 'politics',\n",
       "       'sport', 'politics', 'tech', 'business', 'politics', 'tech',\n",
       "       'politics', 'politics', 'entertainment', 'tech', 'sport', 'sport',\n",
       "       'politics', 'business', 'tech', 'politics', 'sport', 'sport',\n",
       "       'entertainment', 'business', 'entertainment', 'entertainment',\n",
       "       'business', 'politics', 'sport', 'politics', 'tech', 'business',\n",
       "       'business', 'politics', 'sport', 'business', 'sport', 'business',\n",
       "       'politics', 'business', 'sport', 'politics', 'tech', 'sport',\n",
       "       'politics', 'business', 'tech', 'politics', 'sport', 'politics',\n",
       "       'entertainment', 'sport', 'politics', 'business', 'business',\n",
       "       'business', 'tech', 'politics', 'politics', 'sport', 'business',\n",
       "       'tech', 'tech', 'tech', 'sport', 'tech', 'politics', 'business',\n",
       "       'business', 'sport', 'business', 'politics', 'business', 'tech',\n",
       "       'tech', 'sport', 'tech', 'business', 'sport', 'business',\n",
       "       'business', 'business', 'politics', 'politics', 'entertainment',\n",
       "       'entertainment', 'entertainment', 'politics', 'tech', 'tech',\n",
       "       'politics', 'entertainment', 'business', 'sport', 'sport',\n",
       "       'politics', 'entertainment', 'politics', 'sport', 'business',\n",
       "       'business', 'business', 'entertainment', 'tech', 'sport',\n",
       "       'business', 'politics', 'politics', 'tech', 'politics', 'sport',\n",
       "       'politics', 'business', 'tech', 'business', 'sport', 'sport',\n",
       "       'tech', 'sport', 'entertainment', 'tech', 'politics', 'tech',\n",
       "       'sport', 'business', 'business', 'tech', 'tech', 'politics',\n",
       "       'entertainment', 'politics', 'business', 'business', 'tech',\n",
       "       'business', 'business', 'business', 'sport', 'entertainment',\n",
       "       'business', 'sport', 'business', 'sport', 'tech', 'business',\n",
       "       'politics', 'sport', 'business', 'sport', 'sport', 'entertainment',\n",
       "       'politics', 'tech', 'sport', 'business', 'sport', 'business',\n",
       "       'sport', 'sport', 'politics', 'tech', 'business', 'tech',\n",
       "       'business', 'sport', 'tech', 'business', 'entertainment',\n",
       "       'business', 'entertainment', 'sport', 'tech', 'business',\n",
       "       'business', 'business', 'politics', 'sport', 'entertainment',\n",
       "       'tech', 'business', 'sport', 'entertainment', 'business',\n",
       "       'entertainment', 'business', 'politics', 'sport', 'sport',\n",
       "       'business', 'tech', 'sport', 'business', 'business', 'business',\n",
       "       'entertainment', 'business', 'entertainment', 'tech', 'sport',\n",
       "       'politics', 'tech', 'politics', 'tech', 'sport', 'tech',\n",
       "       'entertainment', 'business', 'business', 'politics', 'politics',\n",
       "       'sport', 'sport', 'sport', 'entertainment', 'tech', 'politics',\n",
       "       'entertainment', 'sport', 'sport', 'politics', 'tech', 'politics',\n",
       "       'entertainment', 'sport', 'entertainment', 'sport', 'tech', 'tech',\n",
       "       'sport', 'sport', 'business', 'tech', 'entertainment', 'business',\n",
       "       'tech', 'business', 'business', 'sport', 'entertainment',\n",
       "       'politics', 'entertainment', 'business', 'politics', 'business',\n",
       "       'politics', 'sport', 'tech', 'tech', 'politics', 'entertainment',\n",
       "       'business', 'tech', 'entertainment', 'entertainment', 'politics',\n",
       "       'business', 'business', 'politics', 'politics', 'tech', 'sport',\n",
       "       'business', 'entertainment', 'politics', 'business', 'politics'],\n",
       "      dtype='<U13')"
      ]
     },
     "execution_count": 14,
     "metadata": {},
     "output_type": "execute_result"
    }
   ],
   "source": [
    "y_prdict"
   ]
  },
  {
   "cell_type": "code",
   "execution_count": 15,
   "id": "68a22661",
   "metadata": {},
   "outputs": [
    {
     "data": {
      "text/html": [
       "<div>\n",
       "<style scoped>\n",
       "    .dataframe tbody tr th:only-of-type {\n",
       "        vertical-align: middle;\n",
       "    }\n",
       "\n",
       "    .dataframe tbody tr th {\n",
       "        vertical-align: top;\n",
       "    }\n",
       "\n",
       "    .dataframe thead th {\n",
       "        text-align: right;\n",
       "    }\n",
       "</style>\n",
       "<table border=\"1\" class=\"dataframe\">\n",
       "  <thead>\n",
       "    <tr style=\"text-align: right;\">\n",
       "      <th></th>\n",
       "      <th>ArticleId</th>\n",
       "      <th>Category</th>\n",
       "    </tr>\n",
       "  </thead>\n",
       "  <tbody>\n",
       "    <tr>\n",
       "      <th>0</th>\n",
       "      <td>1018</td>\n",
       "      <td>sport</td>\n",
       "    </tr>\n",
       "    <tr>\n",
       "      <th>1</th>\n",
       "      <td>1319</td>\n",
       "      <td>tech</td>\n",
       "    </tr>\n",
       "    <tr>\n",
       "      <th>2</th>\n",
       "      <td>1138</td>\n",
       "      <td>sport</td>\n",
       "    </tr>\n",
       "    <tr>\n",
       "      <th>3</th>\n",
       "      <td>459</td>\n",
       "      <td>business</td>\n",
       "    </tr>\n",
       "    <tr>\n",
       "      <th>4</th>\n",
       "      <td>1020</td>\n",
       "      <td>sport</td>\n",
       "    </tr>\n",
       "    <tr>\n",
       "      <th>5</th>\n",
       "      <td>51</td>\n",
       "      <td>sport</td>\n",
       "    </tr>\n",
       "    <tr>\n",
       "      <th>6</th>\n",
       "      <td>2025</td>\n",
       "      <td>politics</td>\n",
       "    </tr>\n",
       "    <tr>\n",
       "      <th>7</th>\n",
       "      <td>1479</td>\n",
       "      <td>politics</td>\n",
       "    </tr>\n",
       "    <tr>\n",
       "      <th>8</th>\n",
       "      <td>27</td>\n",
       "      <td>entertainment</td>\n",
       "    </tr>\n",
       "    <tr>\n",
       "      <th>9</th>\n",
       "      <td>397</td>\n",
       "      <td>business</td>\n",
       "    </tr>\n",
       "    <tr>\n",
       "      <th>10</th>\n",
       "      <td>1644</td>\n",
       "      <td>business</td>\n",
       "    </tr>\n",
       "    <tr>\n",
       "      <th>11</th>\n",
       "      <td>263</td>\n",
       "      <td>tech</td>\n",
       "    </tr>\n",
       "    <tr>\n",
       "      <th>12</th>\n",
       "      <td>765</td>\n",
       "      <td>politics</td>\n",
       "    </tr>\n",
       "    <tr>\n",
       "      <th>13</th>\n",
       "      <td>2134</td>\n",
       "      <td>tech</td>\n",
       "    </tr>\n",
       "    <tr>\n",
       "      <th>14</th>\n",
       "      <td>297</td>\n",
       "      <td>entertainment</td>\n",
       "    </tr>\n",
       "    <tr>\n",
       "      <th>15</th>\n",
       "      <td>1712</td>\n",
       "      <td>sport</td>\n",
       "    </tr>\n",
       "    <tr>\n",
       "      <th>16</th>\n",
       "      <td>1631</td>\n",
       "      <td>politics</td>\n",
       "    </tr>\n",
       "    <tr>\n",
       "      <th>17</th>\n",
       "      <td>942</td>\n",
       "      <td>tech</td>\n",
       "    </tr>\n",
       "    <tr>\n",
       "      <th>18</th>\n",
       "      <td>1549</td>\n",
       "      <td>entertainment</td>\n",
       "    </tr>\n",
       "    <tr>\n",
       "      <th>19</th>\n",
       "      <td>516</td>\n",
       "      <td>politics</td>\n",
       "    </tr>\n",
       "  </tbody>\n",
       "</table>\n",
       "</div>"
      ],
      "text/plain": [
       "    ArticleId       Category\n",
       "0        1018          sport\n",
       "1        1319           tech\n",
       "2        1138          sport\n",
       "3         459       business\n",
       "4        1020          sport\n",
       "5          51          sport\n",
       "6        2025       politics\n",
       "7        1479       politics\n",
       "8          27  entertainment\n",
       "9         397       business\n",
       "10       1644       business\n",
       "11        263           tech\n",
       "12        765       politics\n",
       "13       2134           tech\n",
       "14        297  entertainment\n",
       "15       1712          sport\n",
       "16       1631       politics\n",
       "17        942           tech\n",
       "18       1549  entertainment\n",
       "19        516       politics"
      ]
     },
     "execution_count": 15,
     "metadata": {},
     "output_type": "execute_result"
    }
   ],
   "source": [
    "#submission = pd.DataFrame(test_id)\n",
    "submission = pd.DataFrame(list(zip(test_id, y_prdict)),\n",
    "               columns =['ArticleId', 'Category'])\n",
    "submission.head(20)"
   ]
  },
  {
   "cell_type": "code",
   "execution_count": 16,
   "id": "a0fc569b",
   "metadata": {},
   "outputs": [],
   "source": [
    "data = np.array(['movie'])\n",
    "  \n",
    "test_text = pd.Series(data)\n",
    "#test_text = 'qpr keeper day heads for preston queens park rangers keeper chris day is set to join preston on a month s loan.  day has been displaced by the arrival of simon royce  who is in his second month on loan from charlton. qpr have also signed italian generoso rossi. r s manager ian holloway said:  some might say it s a risk as he can t be recalled during that month and simon royce can now be recalled by charlton.  but i have other irons in the fire. i have had a  yes  from a couple of others should i need them.   day s rangers contract expires in the summer. meanwhile  holloway is hoping to complete the signing of middlesbrough defender andy davies - either permanently or again on loan - before saturday s match at ipswich. davies impressed during a recent loan spell at loftus road. holloway is also chasing bristol city midfielder tom doherty.'\n",
    "y_prdict = nb.predict(test_text)"
   ]
  },
  {
   "cell_type": "code",
   "execution_count": 17,
   "id": "04a96f8d",
   "metadata": {},
   "outputs": [
    {
     "data": {
      "text/plain": [
       "'sport'"
      ]
     },
     "execution_count": 17,
     "metadata": {},
     "output_type": "execute_result"
    }
   ],
   "source": [
    "y_prdict[0]"
   ]
  },
  {
   "cell_type": "markdown",
   "id": "904b3fc5",
   "metadata": {},
   "source": [
    "# Create Pickle file"
   ]
  },
  {
   "cell_type": "code",
   "execution_count": 18,
   "id": "b2ae1468",
   "metadata": {},
   "outputs": [],
   "source": [
    "import pickle\n",
    "\n",
    "file = open('nb.pkl','wb')\n",
    "\n",
    "pickle.dump(nb,file)"
   ]
  },
  {
   "cell_type": "code",
   "execution_count": 19,
   "id": "d19e6415",
   "metadata": {},
   "outputs": [],
   "source": [
    "file.close()"
   ]
  },
  {
   "cell_type": "code",
   "execution_count": 20,
   "id": "a72b5bc3",
   "metadata": {},
   "outputs": [
    {
     "name": "stdout",
     "output_type": "stream",
     "text": [
      "0.008368600000011384\n"
     ]
    }
   ],
   "source": [
    "from timeit import default_timer as timer\n",
    "\n",
    "start = timer()\n",
    "data = np.array(['loss'])\n",
    "  \n",
    "test_text = pd.Series(data)\n",
    "#test_text = 'qpr keeper day heads for preston queens park rangers keeper chris day is set to join preston on a month s loan.  day has been displaced by the arrival of simon royce  who is in his second month on loan from charlton. qpr have also signed italian generoso rossi. r s manager ian holloway said:  some might say it s a risk as he can t be recalled during that month and simon royce can now be recalled by charlton.  but i have other irons in the fire. i have had a  yes  from a couple of others should i need them.   day s rangers contract expires in the summer. meanwhile  holloway is hoping to complete the signing of middlesbrough defender andy davies - either permanently or again on loan - before saturday s match at ipswich. davies impressed during a recent loan spell at loftus road. holloway is also chasing bristol city midfielder tom doherty.'\n",
    "y_prdict = nb.predict(test_text)\n",
    "end = timer()\n",
    "print(end - start)"
   ]
  },
  {
   "cell_type": "code",
   "execution_count": 21,
   "id": "28410936",
   "metadata": {},
   "outputs": [
    {
     "data": {
      "text/plain": [
       "'business'"
      ]
     },
     "execution_count": 21,
     "metadata": {},
     "output_type": "execute_result"
    }
   ],
   "source": [
    "y_prdict[0]"
   ]
  },
  {
   "cell_type": "code",
   "execution_count": null,
   "id": "de0ab5b3",
   "metadata": {},
   "outputs": [],
   "source": []
  }
 ],
 "metadata": {
  "kernelspec": {
   "display_name": "Python 3 (ipykernel)",
   "language": "python",
   "name": "python3"
  },
  "language_info": {
   "codemirror_mode": {
    "name": "ipython",
    "version": 3
   },
   "file_extension": ".py",
   "mimetype": "text/x-python",
   "name": "python",
   "nbconvert_exporter": "python",
   "pygments_lexer": "ipython3",
   "version": "3.7.9"
  }
 },
 "nbformat": 4,
 "nbformat_minor": 5
}
